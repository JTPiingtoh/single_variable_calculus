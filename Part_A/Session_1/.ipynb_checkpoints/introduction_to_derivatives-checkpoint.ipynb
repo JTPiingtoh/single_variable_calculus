{
 "cells": [
  {
   "cell_type": "markdown",
   "id": "7ffd8aaf",
   "metadata": {},
   "source": [
    "## Session 1: Introduction to Derivatives"
   ]
  },
  {
   "cell_type": "code",
   "execution_count": 4,
   "id": "cce00ec7",
   "metadata": {},
   "outputs": [],
   "source": [
    "import numpy as np\n",
    "import matplotlib.pyplot as plt\n",
    "import ipywidgets as widgets\n",
    "from ipywidgets import interact\n"
   ]
  },
  {
   "cell_type": "markdown",
   "id": "4934fe42",
   "metadata": {},
   "source": [
    "Geometrically, the derivative of a function give the gradient of the tangent line at $x$"
   ]
  },
  {
   "cell_type": "code",
   "execution_count": 15,
   "id": "9d14405a",
   "metadata": {},
   "outputs": [
    {
     "data": {
      "text/plain": [
       "(-3.0, 6.0)"
      ]
     },
     "execution_count": 15,
     "metadata": {},
     "output_type": "execute_result"
    },
    {
     "data": {
      "image/png": "[encoded data removed]",
      "text/plain": [
       "<Figure size 640x480 with 1 Axes>"
      ]
     },
     "metadata": {},
     "output_type": "display_data"
    }
   ],
   "source": [
    "# the function\n",
    "def f(x):\n",
    "    return 1 / x\n",
    "\n",
    "# the derivative of f(x)\n",
    "def f_der(x):\n",
    "    return -1 / x ** 2\n",
    "\n",
    "# the intercept (c) of the tangent line in the form y = mx + c\n",
    "def tangent_intercept(x):\n",
    "    return f(x) - f_der(x) * x\n",
    "\n",
    "# line funnction\n",
    "def line(m, c, z):\n",
    "    return m*z + c\n",
    "\n",
    "x = np.linspace(0.1, 6, 100)\n",
    "y = f(x)\n",
    "\n",
    "# points for the tangent\n",
    "z = np.linspace(0.1, 2, 100)\n",
    "\n",
    "\n",
    "tangent_line = line(m = f_der(1), c = tangent_intercept(1), z = z)\n",
    "fig, ax = plt.subplots()\n",
    "\n",
    "ax.plot(x,y)\n",
    "ax.plot(x,f_der(x))\n",
    "ax.plot(z, tangent_line)\n",
    "# ax.tick_params(labelbottom = False, labelleft = False, bottom=False, left = False)\n",
    "ax.set_title(\"y=1/x\")\n",
    "ax.set_xlim(-0.1, 3)\n",
    "ax.set_ylim(-3, 6)"
   ]
  },
  {
   "cell_type": "markdown",
   "id": "8298a6e6",
   "metadata": {},
   "source": [
    "The intecept (c) for the tangent line for $f(x)$ can be found like so:\n",
    "\n",
    "The tangent line of $f(x)$ can be written in the form of $t(z) = f'(x)z + c$\n",
    "\n",
    "As $t(z)$ and $f(x)$ intecept, at $x$ there is a point where:\n",
    "$f(x) = f'(x)x + c $\n",
    "\n",
    "as $ z = x $\n",
    "\n",
    "therefore:\n",
    "$ c = f(x) - f'(x)x$ \n",
    "\n",
    "$c$ can be calculated in python with\n",
    "\n",
    "```python\n",
    "def tangent_intercept(x):\n",
    "    return f(x) - f_der(x) * x\n",
    "```\n",
    "\n",
    "\n"
   ]
  },
  {
   "cell_type": "markdown",
   "id": "99564499",
   "metadata": {},
   "source": [
    "But how do we derive the gradient? Consider the following image:"
   ]
  },
  {
   "cell_type": "markdown",
   "id": "28f3fb4c",
   "metadata": {},
   "source": [
    "fig, ax = plt.subplots()\n",
    "\n",
    "ax.plot(x,y)"
   ]
  },
  {
   "cell_type": "code",
   "execution_count": 16,
   "id": "267d5cef",
   "metadata": {},
   "outputs": [
    {
     "data": {
      "application/vnd.jupyter.widget-view+json": {
       "model_id": "b0b2231b478c4abea95d51bd32d7f84b",
       "version_major": 2,
       "version_minor": 0
      },
      "text/plain": [
       "interactive(children=(FloatSlider(value=3.0, description='dx', max=6.0, step=0.5), Output()), _dom_classes=('w…"
      ]
     },
     "metadata": {},
     "output_type": "display_data"
    },
    {
     "data": {
      "text/plain": [
       "<function __main__.plot_secant_line(dx)>"
      ]
     },
     "execution_count": 16,
     "metadata": {},
     "output_type": "execute_result"
    }
   ],
   "source": [
    "def plot_tangent(x):\n",
    "\n",
    "    z = np.linspace(0, 6)\n",
    "    y = f_der(x) * z + tangent_intercept(x)\n",
    "    plt.plot(z, y)\n",
    "\n",
    "def plot_secant_line(dx):\n",
    "    fig, ax = plt.subplots()\n",
    "    x1 = x[10]\n",
    "    y1 = y[10]\n",
    "\n",
    "    x2 = x1 + dx\n",
    "    y2 = f(x2)\n",
    "    point_1 = (x1, y1) \n",
    "    point_2 = (x2, y2) \n",
    "\n",
    "    points = np.array([point_1, point_2]).T\n",
    "\n",
    "    ax.plot(x,y)\n",
    "    ax.plot(points[0], points[1], marker='o')\n",
    "    ax.set_xlim(0.1, 4)\n",
    "    ax.set_ylim(0,4)\n",
    "    plot_tangent(x1)\n",
    "    \n",
    "\n",
    "interact(plot_secant_line, dx=widgets.FloatSlider(value=3, min=0, max=6, step=0.5))\n"
   ]
  },
  {
   "cell_type": "markdown",
   "id": "bfd77ba6-8e55-4af1-bf8b-6ba54382c36b",
   "metadata": {},
   "source": [
    "Notice that at dx becomes smaller, the orange line tends towards the same gradient as the green line. So if we calculate the gradient of the orange line, we can find the derivative of $f$"
   ]
  },
  {
   "cell_type": "markdown",
   "id": "012878e8-aac9-483e-a5d8-7b9ed6aaa699",
   "metadata": {},
   "source": [
    "The gradient will equal $ \\frac {dy}{dx} $\n",
    "\n",
    "$ dy = y_2 - y_1 = f(x + dy) - f(x) $\n",
    "\n",
    "Therefore \n",
    "\n",
    "$ f'(x) = \\lim_{dx \\to 0} \\frac{f(x + dy) - f(x)}{dx} $\n"
   ]
  }
 ],
 "metadata": {
  "kernelspec": {
   "display_name": "Python 3 (ipykernel)",
   "language": "python",
   "name": "python3"
  },
  "language_info": {
   "codemirror_mode": {
    "name": "ipython",
    "version": 3
   },
   "file_extension": ".py",
   "mimetype": "text/x-python",
   "name": "python",
   "nbconvert_exporter": "python",
   "pygments_lexer": "ipython3",
   "version": "3.13.3"
  }
 },
 "nbformat": 4,
 "nbformat_minor": 5
}
