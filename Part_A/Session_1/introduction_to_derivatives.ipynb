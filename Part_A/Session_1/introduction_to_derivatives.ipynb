{
 "cells": [
  {
   "cell_type": "markdown",
   "id": "7ffd8aaf",
   "metadata": {},
   "source": [
    "## Session 1: Introduction to Derivatives"
   ]
  },
  {
   "cell_type": "code",
   "execution_count": 1,
   "id": "cce00ec7",
   "metadata": {},
   "outputs": [],
   "source": [
    "import numpy as np\n",
    "import matplotlib.pyplot as plt\n",
    "import ipywidgets as widgets\n",
    "from ipywidgets import interact\n"
   ]
  },
  {
   "cell_type": "markdown",
   "id": "4934fe42",
   "metadata": {},
   "source": [
    "Geometrically, the derivative of a function give the gradient of the tangent line at $x$"
   ]
  },
  {
   "cell_type": "code",
   "execution_count": 2,
   "id": "9d14405a",
   "metadata": {},
   "outputs": [
    {
     "data": {
      "text/plain": [
       "(-2.0, 1.5)"
      ]
     },
     "execution_count": 2,
     "metadata": {},
     "output_type": "execute_result"
    },
    {
     "data": {
      "image/png": "[encoded data removed]",
      "text/plain": [
       "<Figure size 640x480 with 1 Axes>"
      ]
     },
     "metadata": {},
     "output_type": "display_data"
    }
   ],
   "source": [
    "# the function\n",
    "def f(x):\n",
    "    return 0.5 * (x ** 3) - x\n",
    "\n",
    "# the derivative of f(x)\n",
    "def f_der(x):\n",
    "    return 1.5 * (x ** 2) - 1\n",
    "\n",
    "# the intercept (c) of the tangent line in the form y = mx + c\n",
    "def tangent_intercept(x):\n",
    "    return f(x) - f_der(x) * x\n",
    "\n",
    "# line funnction\n",
    "def line(m, c, z):\n",
    "    return m*z + c\n",
    "\n",
    "x = np.linspace(-2, 6, 100)\n",
    "y = f(x)\n",
    "\n",
    "# points for the tangent\n",
    "z = np.linspace(0.1, 2, 100)\n",
    "\n",
    "\n",
    "tangent_line = line(m = f_der(1), c = tangent_intercept(1), z = z)\n",
    "fig, ax = plt.subplots()\n",
    "\n",
    "ax.plot(x,y)\n",
    "ax.plot(x,f_der(x))\n",
    "ax.plot(z, tangent_line)\n",
    "# ax.tick_params(labelbottom = False, labelleft = False, bottom=False, left = False)\n",
    "ax.set_title(\"y=1/x\")\n",
    "ax.set_xlim(-2.5, 3)\n",
    "ax.set_ylim(-2, 1.5)"
   ]
  },
  {
   "cell_type": "markdown",
   "id": "8298a6e6",
   "metadata": {},
   "source": [
    "The intecept (c) for the tangent line for $f(x)$ can be found like so:\n",
    "\n",
    "The tangent line of $f(x)$ can be written in the form of $t(z) = f'(x)z + c$\n",
    "\n",
    "As $t(z)$ and $f(x)$ intecept, at $x$ there is a point where:\n",
    "$f(x) = f'(x)x + c $\n",
    "\n",
    "as $ z = x $\n",
    "\n",
    "therefore:\n",
    "$ c = f(x) - f'(x)x$ \n",
    "\n",
    "$c$ can be calculated in python with\n",
    "\n",
    "```python\n",
    "def tangent_intercept(x):\n",
    "    return f(x) - f_der(x) * x\n",
    "```\n",
    "\n",
    "\n"
   ]
  },
  {
   "cell_type": "markdown",
   "id": "99564499",
   "metadata": {},
   "source": [
    "But how do we derive the gradient? Consider the following image:"
   ]
  },
  {
   "cell_type": "code",
   "execution_count": 8,
   "id": "267d5cef",
   "metadata": {},
   "outputs": [
    {
     "data": {
      "application/vnd.jupyter.widget-view+json": {
       "model_id": "04f9a03753a04073903df3f33423f1e5",
       "version_major": 2,
       "version_minor": 0
      },
      "text/plain": [
       "interactive(children=(FloatSlider(value=3.0, description='x1', max=3.0, min=-2.5, step=0.05), FloatSlider(valu…"
      ]
     },
     "metadata": {},
     "output_type": "display_data"
    },
    {
     "data": {
      "text/plain": [
       "<function __main__.plot_secant_aprox(x1, dx)>"
      ]
     },
     "execution_count": 8,
     "metadata": {},
     "output_type": "execute_result"
    }
   ],
   "source": [
    "def plot_tangent(x):\n",
    "\n",
    "    z = np.linspace(-10, 10, 100)\n",
    "    y = f_der(x) * z + tangent_intercept(x)\n",
    "    plt.plot(z, y)\n",
    "\n",
    "def secant_line_m_c(p1, p2):\n",
    "    x1, y1 = p1\n",
    "    x2, y2 = p2\n",
    "\n",
    "    dy = (y2 - y1) \n",
    "    dx = (x2 - x1)\n",
    "    if dx == 0:\n",
    "        # just moves the line out of the way\n",
    "        return (0,100)\n",
    "    \n",
    "    m = dy / dx\n",
    "    c = y1 - m * x1\n",
    "\n",
    "    return(m,c)\n",
    "\n",
    "def plot_line(mc):\n",
    "\n",
    "    m, c = mc\n",
    "    x = np.linspace(-10,10, 100)\n",
    "    y = m * x + c\n",
    "    plt.plot(x,y)\n",
    "\n",
    "def plot_secant_aprox(x1, dx):\n",
    "    fig, ax = plt.subplots()\n",
    "\n",
    "    y1 = f(x1)\n",
    "\n",
    "    x2 = x1 + dx\n",
    "    y2 = f(x2)\n",
    "    point_1 = (x1, y1) \n",
    "    point_2 = (x2, y2) \n",
    "\n",
    "    points = np.array([point_1, point_2]).T\n",
    "\n",
    "    ax.plot(x,f(x))\n",
    "    ax.plot(x, f_der(x))\n",
    "    ax.scatter(points[0], points[1], marker='o')\n",
    "    ax.set_xlim(-2.5, 3)\n",
    "    ax.set_ylim(-2, 1.5)\n",
    "    plot_tangent(x1)\n",
    "    plot_line( \n",
    "        secant_line_m_c(\n",
    "            (x1,y1), (x2, y2) \n",
    "        ) \n",
    "    )\n",
    "    \n",
    "\n",
    "interact(plot_secant_aprox, \n",
    "            dx=widgets.FloatSlider(value=3, min=-6, max=5, step=0.05),\n",
    "            x1=widgets.FloatSlider(value=3, min=-2.5, max=3, step=0.05)\n",
    "        )\n"
   ]
  },
  {
   "cell_type": "markdown",
   "id": "bfd77ba6-8e55-4af1-bf8b-6ba54382c36b",
   "metadata": {},
   "source": [
    "Notice that as $dx$ becomes smaller, the secant line tends towards the same gradient as the tangent line. So if we calculate the gradient of the secant line, we can find the derivative of $f$.\n",
    "\n",
    "Also notice that near the roots of $f(x)$ the gradient of the secant line is much more sensitve to changes in $ dx $, meaning you need a small $dx$ to get an accurate estimate for the tangent line at the roots. This is because $dy$ will grow at a faster rate than $dx$, wereas near the inflection points the grow at a similar rate; imagine zooming in and seeing what $f(x)$ looks like."
   ]
  },
  {
   "cell_type": "markdown",
   "id": "012878e8-aac9-483e-a5d8-7b9ed6aaa699",
   "metadata": {},
   "source": [
    "The gradient will equal $ \\frac {dy}{dx} $\n",
    "\n",
    "$ dy = y_2 - y_1 = f(x + dy) - f(x) $\n",
    "\n",
    "Therefore \n",
    "\n",
    "$ f'(x) = \\lim_{dx \\to 0} \\frac{f(x + dy) - f(x)}{dx} $\n"
   ]
  }
 ],
 "metadata": {
  "kernelspec": {
   "display_name": "Python 3 (ipykernel)",
   "language": "python",
   "name": "python3"
  },
  "language_info": {
   "codemirror_mode": {
    "name": "ipython",
    "version": 3
   },
   "file_extension": ".py",
   "mimetype": "text/x-python",
   "name": "python",
   "nbconvert_exporter": "python",
   "pygments_lexer": "ipython3",
   "version": "3.13.3"
  }
 },
 "nbformat": 4,
 "nbformat_minor": 5
}
