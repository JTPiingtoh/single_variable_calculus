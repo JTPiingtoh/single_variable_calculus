{
 "cells": [
  {
   "cell_type": "code",
   "execution_count": 1,
   "id": "4ffe0b0c-05f5-4379-9bd4-11abb043f713",
   "metadata": {},
   "outputs": [],
   "source": [
    "import numpy as np\n",
    "import matplotlib.pyplot as plt\n",
    "import ipywidgets as widgets\n",
    "from ipywidgets import interact"
   ]
  },
  {
   "cell_type": "markdown",
   "id": "caeafef4-d5d5-477d-9e08-69d7893dc117",
   "metadata": {},
   "source": [
    "## Example 1 and 2: Finding the area of a triange under the tangent of $ \\frac {1}{x}$"
   ]
  },
  {
   "cell_type": "code",
   "execution_count": 2,
   "id": "9d93ce35-d410-4abc-8cf0-869aadd30ea3",
   "metadata": {},
   "outputs": [],
   "source": [
    "#define function\n",
    "\n",
    "def f(x):\n",
    "    return 1 / x\n",
    "\n",
    "def f_der(x):\n",
    "    return (-1) / (x ** 2) \n",
    "\n",
    "def tangent_y_intercept(x):\n",
    "    return f(x) - f_der(x) * x\n",
    "\n",
    "def tangent_x_intercept(x):\n",
    "    return ( f_der(x) * x - f(x) ) / f_der(x)\n",
    "\n",
    "def area_under_line(x):\n",
    "    return 0.5 * tangent_y_intercept(x) * tangent_x_intercept(x)\n"
   ]
  },
  {
   "cell_type": "code",
   "execution_count": 3,
   "id": "58229895-1a3a-4c26-b8ba-4b5f30770c8e",
   "metadata": {},
   "outputs": [],
   "source": [
    "def plot_line(m, c, x, ax):\n",
    "    y = m * x + c\n",
    "    # ax.plot(x, y)\n",
    "    return y"
   ]
  },
  {
   "cell_type": "code",
   "execution_count": 4,
   "id": "45f2dfe8-be79-4405-9da0-56cb4fa97dab",
   "metadata": {},
   "outputs": [
    {
     "data": {
      "application/vnd.jupyter.widget-view+json": {
       "model_id": "f3a336d8f4c4468a82c99a36c434a2ff",
       "version_major": 2,
       "version_minor": 0
      },
      "text/plain": [
       "interactive(children=(FloatSlider(value=1.0, description='z', max=2.5, min=0.1, step=0.01), Output()), _dom_cl…"
      ]
     },
     "metadata": {},
     "output_type": "display_data"
    },
    {
     "data": {
      "text/plain": [
       "<function __main__.plot_area_under_tangent_triange(z)>"
      ]
     },
     "execution_count": 4,
     "metadata": {},
     "output_type": "execute_result"
    }
   ],
   "source": [
    "def plot_area_under_tangent_triange(z):\n",
    "\n",
    "    x = np. linspace(0.1, 2.5, 100)\n",
    "    y = f(x)\n",
    "    \n",
    "    \n",
    "    fig, ax = plt.subplots()\n",
    "\n",
    "    ax.plot(x,y)\n",
    "    line_y = plot_line(f_der(z), tangent_y_intercept(z), x, ax=ax)\n",
    "    ax.fill_between(x, line_y, where = line_y >= 0)\n",
    "    ax.set_xlim(0.1, 2.5)\n",
    "    ax.set_ylim(-1, 7)\n",
    "\n",
    "    area = area_under_line(z)\n",
    "    ax.annotate(f\"area = {round(area)}\", xy = (z, f(z)), arrowprops=dict(arrowstyle='->'), xytext=(1.5, 6))\n",
    "    \n",
    "interact(plot_area_under_tangent_triange, z = widgets.FloatSlider(value = 1 , min = 0.1, max = 2.5, step = 0.01))"
   ]
  },
  {
   "cell_type": "markdown",
   "id": "3d9f9a48-4011-40d7-9762-effa05a798e9",
   "metadata": {},
   "source": [
    "### Example 2: $ x^n $"
   ]
  },
  {
   "cell_type": "code",
   "execution_count": 5,
   "id": "f321ea07-9da6-495a-8f1a-9f08f7f68d6e",
   "metadata": {},
   "outputs": [],
   "source": [
    "def f(x, n):\n",
    "    return x ** n"
   ]
  },
  {
   "cell_type": "code",
   "execution_count": 6,
   "id": "0164e981-1b6c-49e0-a205-e0d895acfcdd",
   "metadata": {},
   "outputs": [
    {
     "data": {
      "application/vnd.jupyter.widget-view+json": {
       "model_id": "e09479ea4de2468a93a3c52f998762fc",
       "version_major": 2,
       "version_minor": 0
      },
      "text/plain": [
       "interactive(children=(FloatSlider(value=1.0, description='n', max=5.0, min=-5.0, step=1.0), Output()), _dom_cl…"
      ]
     },
     "metadata": {},
     "output_type": "display_data"
    },
    {
     "data": {
      "text/plain": [
       "<function __main__.example_2(n)>"
      ]
     },
     "execution_count": 6,
     "metadata": {},
     "output_type": "execute_result"
    }
   ],
   "source": [
    "def example_2(n):\n",
    "\n",
    "    fig, ax = plt.subplots()\n",
    "    x = np.linspace(-5,5,100)\n",
    "    x_zero_mask = x==0\n",
    "    y = f(x,n)\n",
    "\n",
    "    # y[zero_index] == np.mean(y[zero_index-1], y[zero_index+1])\n",
    "    \n",
    "    ax.plot(x,y)\n",
    "\n",
    "    ax.set_xlim(-5,5)\n",
    "    ax.set_ylim(-5,5)\n",
    "    \n",
    "interact(example_2, n=widgets.FloatSlider(value = 1 , min = -5, max = 5, step = 1 ))"
   ]
  },
  {
   "cell_type": "markdown",
   "id": "fbb1370d-571a-442b-bb13-d487dcb92162",
   "metadata": {},
   "source": [
    "I want to take the derivative for a given value of n. How can we do this? The binomial expansion of a nth degree polynomial will shows that:\n",
    "\n",
    "$ (x + dx)^n = (x + dx)_1 * (x + dx)_2 * ... * (x + dx)_n  $\n",
    "\n",
    "meaning we will always have \n",
    "\n",
    "## $ \\frac{x^n +  nx^{n-1} + \\omicron (\\delta x)^2 - x^n}{\\delta x} $\n",
    "\n",
    "* that last part meaning we will will have multiple delta x terms that arent important\n",
    "\n",
    "We will always have a $ -x^n $ term when we use the first priciples formula, and any terms with $ \\delta x $ will divide out, therefore:\n",
    "\n",
    "## $ \\frac{\\delta y}{\\delta x} x^n = nx^{n-1} $\n",
    "\n",
    "We can now easily implment a way of calculating a derivative."
   ]
  },
  {
   "cell_type": "code",
   "execution_count": 7,
   "id": "96850f84-71ce-4ccb-b704-f600d4f1a663",
   "metadata": {},
   "outputs": [],
   "source": [
    "class Polynomial:\n",
    "    def __init__(self, a, n):\n",
    "        self.a = a\n",
    "        self.n = n\n",
    "\n",
    "    def f(self, x):\n",
    "        return self.a * (x ** self.n)\n",
    "\n",
    "    def derive(self):\n",
    "        return self.a * self.n, self.n - 1"
   ]
  },
  {
   "cell_type": "code",
   "execution_count": 8,
   "id": "4a38bb23-5dd6-4b3d-9868-44038bb63c5d",
   "metadata": {},
   "outputs": [
    {
     "name": "stdout",
     "output_type": "stream",
     "text": [
      "4 1\n"
     ]
    }
   ],
   "source": [
    "poly1 = Polynomial(2, 2)\n",
    "poly2 = Polynomial(*poly1.derive())\n",
    "\n",
    "print(poly2.a, poly2.n)"
   ]
  },
  {
   "cell_type": "code",
   "execution_count": 9,
   "id": "d5e06199-7337-44a3-9e8e-ab521c92f314",
   "metadata": {},
   "outputs": [
    {
     "data": {
      "application/vnd.jupyter.widget-view+json": {
       "model_id": "a5b9d1ac14b049b0954e67e11f879a66",
       "version_major": 2,
       "version_minor": 0
      },
      "text/plain": [
       "interactive(children=(FloatSlider(value=1.0, description='a', max=5.0, min=-5.0), FloatSlider(value=1.0, descr…"
      ]
     },
     "metadata": {},
     "output_type": "display_data"
    },
    {
     "data": {
      "text/plain": [
       "<function __main__.example_2_improved(a, n)>"
      ]
     },
     "execution_count": 9,
     "metadata": {},
     "output_type": "execute_result"
    }
   ],
   "source": [
    "def example_2_improved(a, n):\n",
    "    \n",
    "    poly1 = Polynomial(a, n)\n",
    "    poly2 = Polynomial(*poly1.derive())\n",
    "    \n",
    "    fig, ax = plt.subplots()\n",
    "    x = np.linspace(-5,5,100)\n",
    "    x_zero_mask = x==0\n",
    "    y1 = poly1.f(x)\n",
    "    y2 = poly2.f(x) \n",
    "\n",
    "    # y[zero_index] == np.mean(y[zero_index-1], y[zero_index+1])\n",
    "    \n",
    "    ax.plot(x,y1)\n",
    "    ax.plot(x,y2)\n",
    "\n",
    "    ax.set_xlim(-5,5)\n",
    "    ax.set_ylim(-5,5)\n",
    "    \n",
    "interact(\n",
    "    example_2_improved,\n",
    "    a=widgets.FloatSlider(value = 1 , min = -5, max = 5, step = 0.1 ),\n",
    "    n=widgets.FloatSlider(value = 1 , min = -5, max = 5, step = 1 )\n",
    ")"
   ]
  },
  {
   "cell_type": "markdown",
   "id": "e4f0f56c-7e3c-4540-a9ee-ebcb3b6ad22d",
   "metadata": {},
   "source": [
    "This isnt't bad, but it would be nice if we could have multiple terms in the polynomial, such as:\n",
    "\n",
    "$ f(x) = 2x^3 + 3x^2 + 1 $"
   ]
  },
  {
   "cell_type": "code",
   "execution_count": 10,
   "id": "01333250-c1d3-43af-890d-00e6428f1c0c",
   "metadata": {},
   "outputs": [],
   "source": [
    "class MultiPoly():\n",
    "    def __init__(self, coefs: list):\n",
    "        self.coefs = coefs\n",
    "        \n",
    "    def _f(self, x, coefs):\n",
    "        sum = 0\n",
    "        for exponent, coef in enumerate(coefs):\n",
    "            sum += coef * (x ** exponent)\n",
    "        \n",
    "        return sum\n",
    "\n",
    "    \n",
    "    def f(self, x):\n",
    "        return self._f(x, self.coefs)\n",
    "\n",
    "    \n",
    "    def _derive(self, coefs):\n",
    "        \n",
    "        new_coefs = []\n",
    "        for i in range(1, len(coefs)):\n",
    "            new_coefs.append(coefs[i] * i)\n",
    "        \n",
    "        return new_coefs\n",
    "\n",
    "    def derive(self):\n",
    "        return self._derive(self.coefs)\n",
    "\n",
    "\n",
    "    def get_tangent_line_points(self, x1, z):\n",
    "\n",
    "        # y = mx + c\n",
    "\n",
    "        derivative_ceofs = self.derive()\n",
    "        \n",
    "        m = self._f(x1, derivative_ceofs)\n",
    "        c = self.f(x1) - ( self._f(x1, derivative_ceofs) * x1 )\n",
    "\n",
    "        return m * z + c\n",
    "            \n",
    "            "
   ]
  },
  {
   "cell_type": "code",
   "execution_count": 11,
   "id": "c00dc60d-1ec9-4142-a630-521ab79195d5",
   "metadata": {},
   "outputs": [],
   "source": [
    "def line_m_c(p1, p2):\n",
    "    x1, y1 = p1\n",
    "    x2, y2 = p2\n",
    "\n",
    "    dy = (y2 - y1) \n",
    "    dx = (x2 - x1)\n",
    "    if dx == 0:\n",
    "        # just moves the line out of the way\n",
    "        return (0,100)\n",
    "    \n",
    "    m = dy / dx\n",
    "    c = y1 - m * x1\n",
    "\n",
    "    return(m,c)"
   ]
  },
  {
   "cell_type": "code",
   "execution_count": 12,
   "id": "6767e30d-0c90-41b8-ad48-77b890ab6e4f",
   "metadata": {},
   "outputs": [
    {
     "data": {
      "application/vnd.jupyter.widget-view+json": {
       "model_id": "5330abba2cbe4917a3a8e3b008e8d2b2",
       "version_major": 2,
       "version_minor": 0
      },
      "text/plain": [
       "interactive(children=(FloatSlider(value=1.0, description='x1', max=3.0, min=-2.5, step=0.05), FloatSlider(valu…"
      ]
     },
     "metadata": {},
     "output_type": "display_data"
    },
    {
     "data": {
      "text/plain": [
       "<function __main__.example_2_improved_2_secant_approx(x1, dx, a, b, c, d)>"
      ]
     },
     "execution_count": 12,
     "metadata": {},
     "output_type": "execute_result"
    }
   ],
   "source": [
    "def example_2_improved_2_secant_approx(x1,dx, a,b,c,d):\n",
    "\n",
    "    fig, ax = plt.subplots()\n",
    "    \n",
    "    # polynomial instances\n",
    "    poly1 = MultiPoly([a,b,c,d])\n",
    "    poly2 = MultiPoly(poly1.derive())\n",
    "\n",
    "    # plot points on poly1\n",
    "    y1 = poly1.f(x1)\n",
    "    x2 = x1 + dx\n",
    "    y2 = poly1.f(x2)\n",
    "    point_1 = (x1, y1) \n",
    "    point_2 = (x2, y2) \n",
    "    points = np.array([point_1, point_2]).T\n",
    "    ax.scatter(points[0], points[1], marker='o')\n",
    "\n",
    "    # plot poly1 and poly2\n",
    "    x = np.linspace(-10,10,100)\n",
    "    y1 = poly1.f(x)\n",
    "    y2 = poly2.f(x)\n",
    "    ax.plot(x,y1)\n",
    "    # ax.plot(x,y2)\n",
    "\n",
    "    # plot tangent to poly1\n",
    "    tangent_x = np.linspace(-10,10, 10000)\n",
    "    tangent_y = poly1.get_tangent_line_points(x1, tangent_x)\n",
    "    ax.plot(tangent_x, tangent_y)\n",
    "\n",
    "    # plot secant\n",
    "\n",
    "    m,c = line_m_c(point_1,point_2)\n",
    "    secant_y = m * x + c\n",
    "    plt.plot(x,secant_y)\n",
    "    \n",
    "    ax.set_xlim(-10,10)\n",
    "    ax.set_ylim(-10,10)\n",
    "    \n",
    "interact(\n",
    "    example_2_improved_2_secant_approx,\n",
    "    dx=widgets.FloatSlider(value=3, min=-6, max=5, step=0.05),\n",
    "    x1=widgets.FloatSlider(value=1, min=-2.5, max=3, step=0.05),\n",
    "    a=widgets.FloatSlider(value = 1 , min = -5, max = 5, step = 0.01 ),\n",
    "    b=widgets.FloatSlider(value = 1 , min = -5, max = 5, step = 0.01 ),\n",
    "    c=widgets.FloatSlider(value = 1 , min = -5, max = 5, step = 0.01 ),\n",
    "    d=widgets.FloatSlider(value = 1 , min = -5, max = 5, step = 0.01 ),\n",
    ")"
   ]
  },
  {
   "cell_type": "markdown",
   "id": "064b1209-5100-4b5a-8377-12b3659016ed",
   "metadata": {},
   "source": [
    "## Example 3: Absolute value\n",
    "\n",
    "$ f(x) = |x| $\n",
    "\n"
   ]
  },
  {
   "cell_type": "code",
   "execution_count": 13,
   "id": "dbb6694f-b320-4b81-9cfc-f579f18fd505",
   "metadata": {},
   "outputs": [
    {
     "data": {
      "application/vnd.jupyter.widget-view+json": {
       "model_id": "a28259d7cebe4dd794f7eefb4bbb08da",
       "version_major": 2,
       "version_minor": 0
      },
      "text/plain": [
       "interactive(children=(FloatSlider(value=1.0, description='n', step=1.0), Output()), _dom_classes=('widget-inte…"
      ]
     },
     "metadata": {},
     "output_type": "display_data"
    },
    {
     "data": {
      "text/plain": [
       "<function __main__.abs_approx(n)>"
      ]
     },
     "execution_count": 13,
     "metadata": {},
     "output_type": "execute_result"
    }
   ],
   "source": [
    "def sigmoid(x,n):\n",
    "    return (2 / (1+ np.pow(np.e,-x*n))) - 1\n",
    "\n",
    "def abs_approx(n):\n",
    "    fig, ax = plt.subplots()\n",
    "    \n",
    "    x = np.linspace(-5,5,1000)\n",
    "    y = sigmoid(x,n)\n",
    "\n",
    "    ax.plot(x,y)\n",
    "    ax.plot(x,np.abs(x))\n",
    "    \n",
    "    ax.set_xlim(-5,5)\n",
    "    ax.set_ylim(-2,2)\n",
    "\n",
    "interact(abs_approx, n=widgets.FloatSlider(value = 1 , min = 0, max = 100, step = 1) )    "
   ]
  }
 ],
 "metadata": {
  "kernelspec": {
   "display_name": "Python 3 (ipykernel)",
   "language": "python",
   "name": "python3"
  },
  "language_info": {
   "codemirror_mode": {
    "name": "ipython",
    "version": 3
   },
   "file_extension": ".py",
   "mimetype": "text/x-python",
   "name": "python",
   "nbconvert_exporter": "python",
   "pygments_lexer": "ipython3",
   "version": "3.14.0"
  }
 },
 "nbformat": 4,
 "nbformat_minor": 5
}
