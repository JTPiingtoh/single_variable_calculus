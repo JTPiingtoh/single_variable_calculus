{
 "cells": [
  {
   "cell_type": "code",
   "execution_count": 1,
   "id": "4ffe0b0c-05f5-4379-9bd4-11abb043f713",
   "metadata": {},
   "outputs": [],
   "source": [
    "import numpy as np\n",
    "import matplotlib.pyplot as plt\n",
    "import ipywidgets as widgets\n",
    "from ipywidgets import interact"
   ]
  },
  {
   "cell_type": "markdown",
   "id": "caeafef4-d5d5-477d-9e08-69d7893dc117",
   "metadata": {},
   "source": [
    "## Example 1 and 2: Finding the area of a triange under the tangent of $ \\frac {1}{x}$"
   ]
  },
  {
   "cell_type": "code",
   "execution_count": 2,
   "id": "9d93ce35-d410-4abc-8cf0-869aadd30ea3",
   "metadata": {},
   "outputs": [],
   "source": [
    "#define function\n",
    "\n",
    "def f(x):\n",
    "    return 1 / x\n",
    "\n",
    "def f_der(x):\n",
    "    return (-1) / (x ** 2) \n",
    "\n",
    "def tangent_y_intercept(x):\n",
    "    return f(x) - f_der(x) * x\n",
    "\n",
    "def tangent_x_intercept(x):\n",
    "    return ( f_der(x) * x - f(x) ) / f_der(x)\n",
    "\n",
    "def area_under_line(x):\n",
    "    return 0.5 * tangent_y_intercept(x) * tangent_x_intercept(x)\n"
   ]
  },
  {
   "cell_type": "code",
   "execution_count": 3,
   "id": "58229895-1a3a-4c26-b8ba-4b5f30770c8e",
   "metadata": {},
   "outputs": [],
   "source": [
    "def plot_line(m, c, x, ax):\n",
    "    y = m * x + c\n",
    "    # ax.plot(x, y)\n",
    "    return y"
   ]
  },
  {
   "cell_type": "code",
   "execution_count": null,
   "id": "45f2dfe8-be79-4405-9da0-56cb4fa97dab",
   "metadata": {},
   "outputs": [
    {
     "data": {
      "application/vnd.jupyter.widget-view+json": {
       "model_id": "2ef1d3a9477f49b485b9e6ec9748f5e5",
       "version_major": 2,
       "version_minor": 0
      },
      "text/plain": [
       "interactive(children=(FloatSlider(value=1.0, description='z', max=2.5, min=0.1, step=0.01), Output()), _dom_cl…"
      ]
     },
     "metadata": {},
     "output_type": "display_data"
    },
    {
     "data": {
      "text/plain": [
       "<function __main__.plot_area_under_tangent_triange(z)>"
      ]
     },
     "execution_count": 4,
     "metadata": {},
     "output_type": "execute_result"
    }
   ],
   "source": [
    "def plot_area_under_tangent_triange(z):\n",
    "\n",
    "    x = np. linspace(0.1, 2.5, 100)\n",
    "    y = f(x)\n",
    "    \n",
    "    \n",
    "    fig, ax = plt.subplots()\n",
    "\n",
    "    ax.plot(x,y)\n",
    "    line_y = plot_line(f_der(z), tangent_y_intercept(z), x, ax=ax)\n",
    "    ax.fill_between(x, line_y, where = line_y >= 0)\n",
    "    ax.set_xlim(0.1, 2.5)\n",
    "    ax.set_ylim(-1, 7)\n",
    "\n",
    "    area = area_under_line(z)\n",
    "    ax.annotate(f\"area = {round(area)}\", xy = (z, f(z)), arrowprops=dict(arrowstyle='->'), xytext=(1.5, 6))\n",
    "    \n",
    "interact(plot_area_under_tangent_triange, z = widgets.FloatSlider(value = 1 , min = 0.1, max = 2.5, step = 0.01))"
   ]
  }
 ],
 "metadata": {
  "kernelspec": {
   "display_name": ".venv (3.13.3)",
   "language": "python",
   "name": "python3"
  },
  "language_info": {
   "codemirror_mode": {
    "name": "ipython",
    "version": 3
   },
   "file_extension": ".py",
   "mimetype": "text/x-python",
   "name": "python",
   "nbconvert_exporter": "python",
   "pygments_lexer": "ipython3",
   "version": "3.13.3"
  }
 },
 "nbformat": 4,
 "nbformat_minor": 5
}
